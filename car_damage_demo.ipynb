{
  "nbformat": 4,
  "nbformat_minor": 0,
  "metadata": {
    "kernelspec": {
      "name": "python3",
      "display_name": "Python 3"
    },
    "language_info": {
      "codemirror_mode": {
        "name": "ipython",
        "version": 3
      },
      "file_extension": ".py",
      "mimetype": "text/x-python",
      "name": "python",
      "nbconvert_exporter": "python",
      "pygments_lexer": "ipython3",
      "version": "3.7.4"
    },
  "cells": [
    {
      "cell_type": "markdown",
      "metadata": {
        "id": "oKq4BL6hp1f6",
        "colab_type": "text"
      },
      "source": [
        "## **Car Damage Detection, Masking and Area Percentage Calculation**\n",
        "\n",
        "\n",
        "---\n",
        "\n",
        "\n",
        "The following code adapts from the [Mask_RCNN](https://arxiv.org/abs/1703.06870) implementation from the Facebook AI Research Team (FAIR).\n",
        "\n",
        "*    Main source repository: https://github.com/matterport/Mask_RCNN\n",
        "*    Our implementation: https://github.com/rajat-roy/car_damage\n",
        "\n",
        "\n"
      ]
    },
    {
      "cell_type": "markdown",
      "metadata": {
        "id": "IUWHbLtQXJ7V",
        "colab_type": "text"
      },
      "source": [
        "### **1. Import all the dependencies**"
      ]
    },
    {
      "cell_type": "code",
      "metadata": {
        "id": "8bW_9ouz4qSE",
        "colab_type": "code",
        "colab": {}
      },
      "source": [
        "import cv2\n",
        "import random\n",
        "import matplotlib.pyplot as plt\n",
        "\n",
        "import tensorflow as tf\n",
        "# Disable Tensorflow warnings\n",
        "tf.logging.set_verbosity(tf.logging.ERROR)\n",
        "\n",
        "# import inference code\n",
        "from car_damage import Inference\n",
        "\n",
        "# Enable plotting in notebook\n",
        "%matplotlib inline"
      ],
      "execution_count": 0,
      "outputs": []
    },
    {
      "cell_type": "markdown",
      "metadata": {
        "id": "qTWFdXm5QmTl",
        "colab_type": "text"
      },
      "source": [
        "### **2. Do some Inference and calculation**\n",
        "*   Change image_path to test another image, like `image_path = \"dataset/XXXX.JPEG\"`.\n",
        "*    (Optional) Upload images directly from local drive via upload option in files tab and set `image_path = \"?.jpg\"`.\n"
      ]
    },
    {
      "cell_type": "code",
      "metadata": {
        "scrolled": false,
        "id": "BdFt6Uf14qSJ",
        "colab_type": "code",
        "colab": {}
      },
      "source": [
        "# Set up file paths\n",
        "random_file = random.randint(300, 900)\n",
        "image_path = \"dataset/{0:04}.JPEG\".format(random_file) # Input Image path\n",
        "# image_path = \"6.jpg\"\n",
        "weights_path = \"mask_rcnn_car_damage_0030.h5\" # pre-trained model weights path\n",
        "\n",
        "# Inference on new image\n",
        "result = Inference(weights_path, image_path)\n",
        "\n",
        "# show the results\n",
        "img = cv2.imread(image_path) # raw input image\n",
        "img = cv2.cvtColor(img, cv2.COLOR_RGB2BGR)\n",
        "\n",
        "fig = plt.figure(figsize=(15, 10))\n",
        "\n",
        "plt.subplot(1, 2, 1)\n",
        "plt.imshow(img)\n",
        "\n",
        "plt.subplot(1, 2, 2)\n",
        "plt.imshow(result)\n",
        "plt.show()"
      ],
      "execution_count": 0,
      "outputs": []
    }
  ]
}
